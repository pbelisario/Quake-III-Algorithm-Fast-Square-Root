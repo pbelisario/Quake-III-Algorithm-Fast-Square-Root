{
 "cells": [
  {
   "cell_type": "markdown",
   "metadata": {},
   "source": [
    "### Quake III Algorithm (Fast Inverse square root)\n",
    "\n",
    "    How to approximate an inverse of a square root"
   ]
  },
  {
   "cell_type": "code",
   "execution_count": 17,
   "metadata": {},
   "outputs": [],
   "source": [
    "import numpy as np\n",
    "def Q_square_root (number):\n",
    "    threehalfs = 1.5\n",
    "    x2 = number * 0.5\n",
    "    y = np.float32(number)     # Convert the entry number into a 32bits float\n",
    "    \n",
    "    i = y.view(np.int32)       # Step 1\n",
    "    i = np.int32(0x5f3759df) - np.int32(i >> 1) # Step 2\n",
    "    y = i.view(np.float32)     # Reverse Step 1\n",
    "    \n",
    "    # Newtons Method, to improve the aproximation\n",
    "    y = y * (threehalfs - (x2 * y * y)) \n",
    "    #y = y * (threehalfs - (x2 * y * y)) \n",
    "    return float(y)"
   ]
  },
  {
   "cell_type": "code",
   "execution_count": 18,
   "metadata": {},
   "outputs": [
    {
     "data": {
      "text/plain": [
       "0.49915357479239103"
      ]
     },
     "execution_count": 18,
     "metadata": {},
     "output_type": "execute_result"
    }
   ],
   "source": [
    "Q_square_root(4)"
   ]
  },
  {
   "cell_type": "markdown",
   "metadata": {},
   "source": [
    "#### Step 1\n",
    "\n",
    "- The function ``y.view(np.int32)`` constructs a view of **Y**’s memory with a **int32** as the new data-type. This can cause a reinterpretation of the bytes of memory.\n",
    "\n",
    "- Basically it will let work with the mantissa of a float number\n",
    "\n",
    "```C\n",
    "    // Code in C\n",
    "    i = * ( long * ) &y\n",
    "```\n",
    "\n",
    "*****\n",
    "------\n",
    "\n",
    "\n",
    "Given two numbers **M** and **E**, one being the mantissa (M) and one being the exponent (E)\n",
    "\n",
    "$$\n",
    "\\begin{align*}\n",
    "M & & 01001110010000000000000\\\\\n",
    "E & & 10001001\\\\\n",
    "\\end{align*}\n",
    "$$\n",
    "\n",
    "It is possible to get the bit representation as $ 2^{23} * E + M $, because $2^{23} * E$ just shifts E by 23 digits.\n",
    "\n",
    "To get the actual number behind the bits use the formula $ (1 + \\frac{M}{2^{23}}) * 2^{E - 127} $\n",
    "\n",
    "----\n",
    "\n",
    "- Taking the logarithm base 2 of the expression $ (1 + \\frac{M}{2^{23}}) * 2^{E - 127} $\n",
    "\n",
    "$$\n",
    "\\begin{align*}\n",
    "&\\log_2((1 + \\frac{M}{2^{23}}) * 2^{E - 127}) \\\\\n",
    "&\\log_2((1 + \\frac{M}{2^{23}})) + \\log_2(2^{E - 127})\\\\\n",
    "&\\log_2((1 + \\frac{M}{2^{23}})) + E - 127 \\\\\n",
    "\\text{Using} \\log_2(1+x) \\approx x + \\mu &\\\\\n",
    "&\\frac{M}{2^{23}} + \\mu + E - 127 \\\\\n",
    "&\\frac{M}{2^{23}} + \\frac{2^{23} * E}{2^{23}} + \\mu - 127 \\\\\n",
    "&\\frac{1}{2^{23}} * ({M + 2^{23} * E}) + \\mu - 127 \\\\\n",
    "\\end{align*}\n",
    "$$\n",
    "\n",
    "${M + 2^{23} * E}$ is bit representation of a number, in some sense the bit representation of a number is its own logarithm"
   ]
  },
  {
   "cell_type": "markdown",
   "metadata": {},
   "source": [
    "#### Step 2 \n",
    "\n",
    "> ##### Remider\n",
    "> \n",
    "> Shifting a number to the left doubles it\n",
    ">> x << 1 \n",
    ">>\n",
    ">> 110 = 6\n",
    ">>\n",
    ">> 1100 = 12\n",
    ">\n",
    "> Shifting a number to the right halfs it\n",
    ">> x >> 1 \n",
    ">>\n",
    ">> 110 = 6\n",
    ">>\n",
    ">> 11 = 3\n",
    "\n",
    "- So if it is done to the exponent:\n",
    " - Doubling an exponent squares the number $x^1 => x^2$\n",
    " - Halfing the exponent gives an square root $x^1 => x^{1/2} = \\sqrt{x}$\n",
    " - Negating the exponent will give 1 divided by the number $ x^{1/2} => x^{-1/2} = \\frac{1}{\\sqrt{x}}$\n",
    " \n",
    " ------------\n",
    " ------------\n",
    " \n",
    " In some sense, it is stored in $i$ the logarithm of $y$ up to some scaling and shifting. Then the problem becomes easier work with the log of y.\n",
    " $$\n",
    " \\begin{align*}\n",
    " y &= \\frac{1}{\\sqrt{x}}\\\\\n",
    " \\log_2(y) &= \\log_2(\\frac{1}{\\sqrt{x}})\\\\\n",
    " & = \\log_2(y^{-\\frac{1}{2}})\\\\\n",
    " & = -\\frac{1}{2} * \\log_2(y)\\\\\n",
    " \\end{align*}\n",
    " $$\n",
    " The code ```np.int32(i >> 1)``` represents this division by 2 of the log of Y, sinse the $i$ represents the logarithm of Y, itself\n",
    " \n",
    " ------\n",
    " ------\n",
    " \n",
    " #### Explanation of ```np.int32(0x5f3759df)```\n",
    " \n",
    " $$\n",
    " \\begin{align*}\n",
    " &\\text{Let } \\Gamma \\text{ be the solution} \\frac{1}{\\sqrt{y}} \\text{ then:}\\\\\n",
    " &\\log(\\Gamma) = \\log(\\frac{1}{\\sqrt{y}})= -\\frac{1}{2}\\log(y)\\\\\n",
    " &\\text{Replacing the logarithm with the bit representation } \\frac{1}{2^{23}} * ({M + 2^{23} * E}) + \\mu - 127 \\\\\n",
    " &\\log(\\frac{1}{2^{23}} * ({M_\\Gamma + 2^{23} * E_\\Gamma}) + \\mu - 127) = -\\frac{1}{2}\\log(\\frac{1}{2^{23}} * ({M_y + 2^{23} * E_y}) + \\mu - 127)\\\\\n",
    " \\\\\n",
    " &\\text{By doing a typical as it is easy to see, the result is:}\\\\\n",
    " \\\\\n",
    " &({M_\\Gamma + 2^{23} * E_\\Gamma}) = \\frac{3}{2} * 2^{23} * (127 - \\mu) - \\frac{1}{2}* ({M_y + 2^{23} * E_y})\\\\\n",
    " \\end{align*}\n",
    " $$\n",
    " \n",
    " Then, it is possible to see that ```np.int32(0x5f3759df)``` = $\\frac{3}{2} * 2^{23} * (127 - \\mu)$"
   ]
  },
  {
   "cell_type": "markdown",
   "metadata": {},
   "source": []
  }
 ],
 "metadata": {
  "kernelspec": {
   "display_name": "Python 3",
   "language": "python",
   "name": "python3"
  },
  "language_info": {
   "codemirror_mode": {
    "name": "ipython",
    "version": 3
   },
   "file_extension": ".py",
   "mimetype": "text/x-python",
   "name": "python",
   "nbconvert_exporter": "python",
   "pygments_lexer": "ipython3",
   "version": "3.8.5"
  }
 },
 "nbformat": 4,
 "nbformat_minor": 4
}
